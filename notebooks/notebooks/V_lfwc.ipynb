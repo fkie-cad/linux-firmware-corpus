{
 "cells": [
  {
   "cell_type": "markdown",
   "id": "6e6a56a3-92e8-4ff2-8d86-21a4b510aee0",
   "metadata": {},
   "source": [
    "# V. LFwC: A New Corpus to Demonstrate the Practicability of the Proposed Requirements\n",
    "\n",
    "We created a Linux Firmware Corpus (LFwC) to assess the practicability of our requirements. It is based on data until June 2023 and consists of 10,913 deduplicated and unpacked firmware images from ten known manufacturers. It includes both actual and historical firmware samples, covering 2,365\n",
    "unique devices across 22 classes. To provide an overview of LFwC, we added corpus data points to the bottom Table II. We share as much data as legally possible and publish all scripts, tools, and virtual machines for replicability. We tear down LFwC’s unpacking barrier with an open source process\n",
    "for verified unpacking success."
   ]
  },
  {
   "cell_type": "markdown",
   "id": "98db0f08-c1f4-46b7-8da1-5f28e40f4e60",
   "metadata": {},
   "source": [
    "## Preparations\n",
    "\n",
    "Below you will find preparatory stuff such as imports and constant definitions for use down the road."
   ]
  },
  {
   "cell_type": "markdown",
   "id": "30046f07-d0da-4315-87cb-4928908a2922",
   "metadata": {},
   "source": [
    "### Imports"
   ]
  },
  {
   "cell_type": "code",
   "execution_count": null,
   "id": "3b6c7834-38e9-487e-809d-a927bb594718",
   "metadata": {},
   "outputs": [],
   "source": [
    "import json\n",
    "from collections import deque\n",
    "from pathlib import Path\n",
    "\n",
    "import matplotlib.pyplot as plt\n",
    "import numpy as np\n",
    "import pandas as pd\n",
    "import seaborn as sns\n",
    "from matplotlib import rc\n",
    "from matplotlib.ticker import ScalarFormatter\n",
    "from packaging.version import Version, parse"
   ]
  },
  {
   "cell_type": "markdown",
   "id": "90f55d1e-34c2-4c6e-ab27-61553ad9ac69",
   "metadata": {},
   "source": [
    "### Constants"
   ]
  },
  {
   "cell_type": "code",
   "execution_count": null,
   "id": "390bba8f-c1c5-4e0e-b29f-c0c7ef084427",
   "metadata": {},
   "outputs": [],
   "source": [
    "CMAP: list[int] = deque(sns.color_palette(\"colorblind\", as_cmap=True))\n",
    "CMAP.rotate(-4)\n",
    "CMAP = list(CMAP)\n",
    "\n",
    "CMAP_2 = deque(CMAP.copy())\n",
    "CMAP_2.rotate(1)\n",
    "CMAP_2 = list(CMAP_2)\n",
    "\n",
    "CORPUS_PATH: Path = Path(\"../public_data/lfwc-full.csv\")\n",
    "FIGURE_DEST: Path = Path(\"../figures\")\n",
    "\n",
    "Y_LABELS: list[str] = [\n",
    "    \"Ubiquiti\",\n",
    "    \"TRENDnet\",\n",
    "    \"NETGEAR\",\n",
    "    \"Linksys\",\n",
    "    \"EnGenius\",\n",
    "    \"EDIMAX\",\n",
    "    \"D-Link\",\n",
    "    \"ASUS\",\n",
    "    \"TP-Link\",\n",
    "    \"AVM\",\n",
    "]"
   ]
  },
  {
   "cell_type": "markdown",
   "id": "183ae7f8-692b-437f-b874-4771717260c0",
   "metadata": {},
   "source": [
    "### Matplotlib Settings"
   ]
  },
  {
   "cell_type": "code",
   "execution_count": null,
   "id": "23595ffb-5540-40d4-9467-9a2136e9cfbe",
   "metadata": {},
   "outputs": [],
   "source": [
    "rc(\"font\", **{\"family\": \"serif\", \"serif\": [\"Times\"], \"size\": 15})\n",
    "rc(\"text\", usetex=True)\n",
    "pd.set_option(\"display.max_colwidth\", None)"
   ]
  },
  {
   "cell_type": "markdown",
   "id": "815a25d9-b801-49d6-bd34-580ccd83ccbc",
   "metadata": {},
   "source": [
    "### Read Data"
   ]
  },
  {
   "cell_type": "code",
   "execution_count": null,
   "id": "9c626c04-d724-4518-8e66-a861c2947a43",
   "metadata": {},
   "outputs": [],
   "source": [
    "df = pd.read_csv(CORPUS_PATH, index_col=0)"
   ]
  },
  {
   "cell_type": "markdown",
   "id": "07cdc487-eb55-41f0-8b21-30bff2e5da68",
   "metadata": {},
   "source": [
    "## Peek Into Raw Data"
   ]
  },
  {
   "cell_type": "code",
   "execution_count": null,
   "id": "3c805dcb-e002-4d68-90ac-222a4340f7d3",
   "metadata": {},
   "outputs": [],
   "source": [
    "df"
   ]
  },
  {
   "cell_type": "markdown",
   "id": "0d496555-9e98-4515-8e87-97a7c2b09962",
   "metadata": {},
   "source": [
    "## Table III - LFwC: Corpus Statistics Overview"
   ]
  },
  {
   "cell_type": "code",
   "execution_count": null,
   "id": "439f0bf0-c151-44d8-a759-869c5f99eee1",
   "metadata": {},
   "outputs": [],
   "source": [
    "def corpus_statistics_overview(df: pd.DataFrame) -> pd.DataFrame:\n",
    "    df_stats: pd.DataFrame = (\n",
    "        df.groupby([\"manufacturer\"], as_index=False)\n",
    "        .nunique()[[\"manufacturer\", \"sha256\", \"device_name\"]]\n",
    "        .rename(columns={\"manufacturer\": \"Manufact.\", \"sha256\": \"Samples\", \"device_name\": \"Devices\"})\n",
    "    )\n",
    "\n",
    "    df_stats[\"Mean Samples per Device\"] = (df_stats[\"Samples\"] / df_stats[\"Devices\"]).round(2)\n",
    "    df_stats[\"Mean Size per Sample\"] = (\n",
    "        df[[\"manufacturer\", \"compressed_firmware_size\"]]\n",
    "        .groupby([\"manufacturer\"], as_index=False)\n",
    "        .mean()[\"compressed_firmware_size\"]\n",
    "        / 1024**2\n",
    "    ).round(0)\n",
    "\n",
    "    df_stats[\"Mean Files per Sample\"] = (\n",
    "        df[[\"manufacturer\", \"files_in_firmware\"]].groupby([\"manufacturer\"], as_index=False).mean()[\"files_in_firmware\"]\n",
    "    ).round(2)\n",
    "\n",
    "    return df_stats"
   ]
  },
  {
   "cell_type": "code",
   "execution_count": null,
   "id": "b1d820db-adfa-4b2f-8040-3b36484d9ce2",
   "metadata": {},
   "outputs": [],
   "source": [
    "df_stats: pd.DataFrame = corpus_statistics_overview(df)\n",
    "df_stats"
   ]
  },
  {
   "cell_type": "markdown",
   "id": "b82d78f9-8679-41c4-a846-31fd89f4419e",
   "metadata": {},
   "source": [
    "## Figure 7 - LFwC firmware distribution per release date. For 747 samples, our scrapers could not extract any release date from the sources."
   ]
  },
  {
   "cell_type": "code",
   "execution_count": null,
   "id": "7243e296-e5bf-4044-a48f-d325f806b815",
   "metadata": {},
   "outputs": [],
   "source": [
    "def create_figure_7_firmware_distribution_per_release_date(df: pd.DataFrame) -> None:\n",
    "    df_removed_day_from_date = df.copy()\n",
    "    rc(\"font\", **{\"family\": \"serif\", \"serif\": [\"Times\"], \"size\": 16})\n",
    "    df_removed_day_from_date[\"release_date\"] = (\n",
    "        df_removed_day_from_date[\"release_date\"].str.split(\"-\").str[:-2].str.join(\"-\")\n",
    "    )\n",
    "    df_history = (\n",
    "        df_removed_day_from_date.groupby([\"release_date\", \"manufacturer\"], as_index=False)\n",
    "        .nunique()\n",
    "        .pivot(index=\"release_date\", columns=[\"manufacturer\"], values=\"md5\")\n",
    "        .fillna(value=0.0)\n",
    "    )\n",
    "    ax = df_history.plot(\n",
    "        kind=\"bar\",\n",
    "        grid=True,\n",
    "        stacked=True,\n",
    "        logy=False,\n",
    "        figsize=(8, 6),\n",
    "        rot=50,\n",
    "        legend=False,\n",
    "        edgecolor=\"black\",\n",
    "        color=CMAP_2,\n",
    "    )\n",
    "    ax.set_xticklabels([\"unk.\"] + [str(i) for i in range(2005, 2024)])\n",
    "    ax.set_ylabel(\"Sample Quantity [\\\\#]\")\n",
    "    ax.set_xlabel(\"Release Year\")\n",
    "    ax.legend(ncols=4, bbox_to_anchor=(0.9475, 1.275), labels=Y_LABELS[::-1], fontsize=13)\n",
    "    ax.set_axisbelow(True)\n",
    "    ax.yaxis.set_major_formatter(ScalarFormatter())\n",
    "    plt.tight_layout()\n",
    "    plt.savefig(FIGURE_DEST / \"f7_corpus_release_dates.pdf\", bbox_inches=\"tight\")\n",
    "    rc(\"font\", **{\"family\": \"serif\", \"serif\": [\"Times\"], \"size\": 15})\n",
    "    plt.show()"
   ]
  },
  {
   "cell_type": "code",
   "execution_count": null,
   "id": "93829801-57cf-4ef4-b7ff-aa0ca7997967",
   "metadata": {},
   "outputs": [],
   "source": [
    "create_figure_7_firmware_distribution_per_release_date(df)"
   ]
  },
  {
   "cell_type": "markdown",
   "id": "cb22a80a-480c-4f7d-8795-799723fe14a1",
   "metadata": {},
   "source": [
    "## Figure 8 - Distribution of device classes in LFwC. \n",
    "\n",
    "The three most prevalent classes are routers (49%), switches (14%), and access points (12%). We bundled device classes with less than 150 samples into the meta class misc. It contains: controller, board, converter, encoder, gateway, kvm, media, nas, phone, power supply, printer, recorder, san, and wifi-usb."
   ]
  },
  {
   "cell_type": "code",
   "execution_count": null,
   "id": "f8aaa311-f50e-493f-b875-41c057a68fad",
   "metadata": {},
   "outputs": [],
   "source": [
    "def create_figure_8_distribution_of_device_classes_in_lfwc(df: pd.DataFrame) -> None:\n",
    "    df_corpus_misc_classes = df.copy()\n",
    "\n",
    "    flt = df_corpus_misc_classes[\"device_class\"].str.contains(\n",
    "        \"controller|board|converter|encoder|gateway|kvm|media|nas|phone|power_supply|printer|recorder|san|wifi-usb\"\n",
    "    )\n",
    "    df_corpus_misc_classes.loc[flt, \"device_class\"] = \"misc\"\n",
    "\n",
    "    by_classes = (\n",
    "        df_corpus_misc_classes.groupby([\"device_class\", \"manufacturer\"], as_index=False)\n",
    "        .nunique()\n",
    "        .pivot(index=\"device_class\", columns=[\"manufacturer\"], values=\"md5\")\n",
    "        .fillna(value=0.0)\n",
    "    )\n",
    "\n",
    "    rc(\"font\", **{\"family\": \"serif\", \"serif\": [\"Times\"], \"size\": 18})\n",
    "    ax = by_classes.plot(\n",
    "        kind=\"bar\",\n",
    "        grid=True,\n",
    "        stacked=False,\n",
    "        logy=True,\n",
    "        figsize=(20, 4.5),\n",
    "        color=CMAP_2,\n",
    "        edgecolor=\"black\",\n",
    "        legend=False,\n",
    "        width=0.8,\n",
    "        rot=0,\n",
    "    )\n",
    "    ax.set_axisbelow(True)\n",
    "    ax.yaxis.set_major_formatter(ScalarFormatter())\n",
    "    ax.set_ylabel(\"Sample Quantity [\\\\#, log]\")\n",
    "    ax.set_xlabel(\"Device Class\")\n",
    "    ax.set_xlim(-0.41, 8.49)\n",
    "    ax.legend(ncols=10, bbox_to_anchor=(1.0375, 1.2), labels=Y_LABELS[::-1], fontsize=16)\n",
    "    for i in range(0, 11):\n",
    "        ax.axvline(i + 0.500, color=\"black\", linewidth=1)\n",
    "    plt.tight_layout()\n",
    "    plt.savefig(FIGURE_DEST / \"f8_corpus_classes.pdf\", bbox_inches=\"tight\")\n",
    "    rc(\"font\", **{\"family\": \"serif\", \"serif\": [\"Times\"], \"size\": 15})\n",
    "    plt.show()"
   ]
  },
  {
   "cell_type": "code",
   "execution_count": null,
   "id": "e5b46197-b183-4c9f-b785-30ae3395d4e3",
   "metadata": {},
   "outputs": [],
   "source": [
    "create_figure_8_distribution_of_device_classes_in_lfwc(df)"
   ]
  },
  {
   "cell_type": "markdown",
   "id": "29dec476-8056-4d7c-b90a-4068736c6f34",
   "metadata": {},
   "source": [
    "## Figure 9 - Detected Linux kernel banners in LFwC samples."
   ]
  },
  {
   "cell_type": "code",
   "execution_count": null,
   "id": "e46409cc-a1b6-469b-9f37-305aa973b710",
   "metadata": {},
   "outputs": [],
   "source": [
    "def create_figure_9_detected_linux_kernel_banners_in_lfwc_samples(df: pd.DataFrame) -> None:\n",
    "    df_linux_prep = df.copy()\n",
    "    linux_series = df_linux_prep[df_linux_prep[\"linux_banners\"].notnull()][\"linux_banners\"].apply(\n",
    "        lambda x: x.split(\"|\")\n",
    "    )\n",
    "    df_linux_prep[\"linux_banners\"] = linux_series\n",
    "    df_linux_prep = df_linux_prep.explode(\"linux_banners\", ignore_index=True)\n",
    "\n",
    "    def bucketize(ver_str):\n",
    "        if isinstance(ver_str, float):\n",
    "            return parse(\"0.0\")\n",
    "        prepared = ver_str.split(\" \")[-1].split(\".\")[0:2]\n",
    "        ver = parse(\".\".join(prepared))\n",
    "        return ver\n",
    "\n",
    "    df_bucketize_version = df_linux_prep.copy()\n",
    "    df_bucketize_version[\"linux_banners\"] = df_bucketize_version[\"linux_banners\"].apply(bucketize)\n",
    "    df_bucketize_version\n",
    "    rc(\"font\", **{\"family\": \"serif\", \"serif\": [\"Times\"], \"size\": 22})\n",
    "    df_linux_banners = (\n",
    "        df_bucketize_version.groupby([\"linux_banners\", \"manufacturer\"], as_index=False)\n",
    "        .nunique()\n",
    "        .pivot(index=\"linux_banners\", columns=[\"manufacturer\"], values=\"md5\")\n",
    "        .fillna(value=0.0)\n",
    "    )\n",
    "\n",
    "    ax = df_linux_banners.plot(\n",
    "        kind=\"barh\",\n",
    "        grid=True,\n",
    "        stacked=True,\n",
    "        logx=True,\n",
    "        figsize=(21, 7),\n",
    "        rot=0,\n",
    "        legend=False,\n",
    "        edgecolor=\"black\",\n",
    "        color=[\"grey\"],\n",
    "    )\n",
    "    ax.set_ylabel(None)\n",
    "    ax.set_xlabel(\"Detected Linux Kernel Version Banners [Grouped by Major.Minor, log]\")\n",
    "    ax.set_yticklabels([\"unk.\"] + ax.get_yticklabels()[1:], ha=\"left\", va=\"center\", position=(-0.0275, 0))\n",
    "    ax.set_axisbelow(True)\n",
    "    for i in range(0, 19):\n",
    "        x = df_linux_banners.iloc[i].sum()\n",
    "        plt.text(x + 5, i, int(x), va=\"center\")\n",
    "    ax.xaxis.set_major_formatter(ScalarFormatter())\n",
    "    plt.tight_layout()\n",
    "    plt.savefig(FIGURE_DEST / \"f9_corpus_linux_banners.pdf\", bbox_inches=\"tight\")\n",
    "    plt.show()"
   ]
  },
  {
   "cell_type": "code",
   "execution_count": null,
   "id": "b812b893-76d5-4c65-b58f-3d05f163be5b",
   "metadata": {},
   "outputs": [],
   "source": [
    "create_figure_9_detected_linux_kernel_banners_in_lfwc_samples(df)"
   ]
  },
  {
   "cell_type": "markdown",
   "id": "b09bdc97-fe03-4318-be41-a7cdffa4d9fd",
   "metadata": {},
   "source": [
    "## Figure 10 - Distribution of the nine detected ISAs in LFwC across all vendors\n",
    "\n",
    "The three most prevalent ISA families are MIPS (5,993 samples), ARM (4,764), and x86 (2,095). There are 13,429 unique findings on ISAs across all samples, because included subsystems must not run the same ISA as the main system."
   ]
  },
  {
   "cell_type": "code",
   "execution_count": null,
   "id": "8b93dc03-4df3-4636-a5ba-2582fe7ce466",
   "metadata": {},
   "outputs": [],
   "source": [
    "def create_figure_10_isa_distribution(df: pd.DataFrame) -> None:\n",
    "    df_arch_prep = df.copy()\n",
    "    arch_series = df_arch_prep[df_arch_prep[\"elf_architectures\"].notnull()][\"elf_architectures\"].apply(\n",
    "        lambda x: x.split(\"|\")\n",
    "    )\n",
    "    df_arch_prep[\"elf_architectures\"] = arch_series\n",
    "    df_arch_prep\n",
    "\n",
    "    rc(\"font\", **{\"family\": \"serif\", \"serif\": [\"Times\"], \"size\": 18})\n",
    "\n",
    "    by_arch = df_arch_prep.explode(\"elf_architectures\", ignore_index=True)\n",
    "    by_arch = (\n",
    "        by_arch.groupby([\"elf_architectures\", \"manufacturer\"], as_index=False)\n",
    "        .nunique()\n",
    "        .pivot(index=\"elf_architectures\", columns=[\"manufacturer\"], values=\"md5\")\n",
    "        .fillna(value=0.0)\n",
    "    )\n",
    "    # by_arch\n",
    "    ax = by_arch.plot(\n",
    "        kind=\"bar\",\n",
    "        grid=True,\n",
    "        stacked=False,\n",
    "        logy=True,\n",
    "        figsize=(20, 4),\n",
    "        color=CMAP_2,\n",
    "        edgecolor=\"black\",\n",
    "        legend=False,\n",
    "        width=0.8,\n",
    "        rot=0,\n",
    "    )\n",
    "    ax.set_axisbelow(True)\n",
    "    ax.yaxis.set_major_formatter(ScalarFormatter())\n",
    "    ax.set_ylabel(\"Sample Quantity [\\\\#, log]\")\n",
    "    ax.set_xlabel(\"Detected Architecture\")\n",
    "    ax.set_xlim(-0.5, 8.5)\n",
    "    ax.set_xticklabels([\"ARM\", \"ESP\", \"M68K\", \"MIPS\", \"PPC\", \"RISCV\", \"s/390\", \"SPARC\", \"x86\"])\n",
    "    for i in range(0, 11):\n",
    "        ax.axvline(i + 0.505, color=\"black\", linewidth=1)\n",
    "    plt.tight_layout()\n",
    "    plt.savefig(FIGURE_DEST / \"f10_corpus_architectures.pdf\", bbox_inches=\"tight\")\n",
    "    rc(\"font\", **{\"family\": \"serif\", \"serif\": [\"Times\"], \"size\": 15})\n",
    "    plt.show()"
   ]
  },
  {
   "cell_type": "code",
   "execution_count": null,
   "id": "5a7890f9-7b73-49c9-937c-430c49afa464",
   "metadata": {},
   "outputs": [],
   "source": [
    "create_figure_10_isa_distribution(df)"
   ]
  },
  {
   "cell_type": "markdown",
   "id": "14cee044-ef30-42a2-91cd-89f8b8c9f926",
   "metadata": {},
   "source": [
    "### Interactive\n",
    "\n",
    "Now it's your time to play with the corpus! Are you comfortable with [pandas](https://pandas.pydata.org/docs/user_guide/index.html)? You can do some amazing stuff to query the data!"
   ]
  },
  {
   "cell_type": "code",
   "execution_count": null,
   "id": "43cedbb4-ee94-4dec-b6b7-62b81715e8fd",
   "metadata": {},
   "outputs": [],
   "source": [
    "print(\"e.g., only show firmware samples where a MIPS architecture was found:\")\n",
    "\n",
    "df[\n",
    "    df[\"elf_architectures\"].  # take the \"elf_architectures\" row\n",
    "    fillna(\"\").               # replace all NULL values, where no architecture was found, with an empty string\n",
    "    str.contains(\"mips\")      # get all rows in the dataframe that contain the \"mips\" keyword in column \"elf architecture\"\n",
    "]"
   ]
  }
 ],
 "metadata": {
  "kernelspec": {
   "display_name": "Python 3 (ipykernel)",
   "language": "python",
   "name": "python3"
  },
  "language_info": {
   "codemirror_mode": {
    "name": "ipython",
    "version": 3
   },
   "file_extension": ".py",
   "mimetype": "text/x-python",
   "name": "python",
   "nbconvert_exporter": "python",
   "pygments_lexer": "ipython3",
   "version": "3.10.12"
  }
 },
 "nbformat": 4,
 "nbformat_minor": 5
}
