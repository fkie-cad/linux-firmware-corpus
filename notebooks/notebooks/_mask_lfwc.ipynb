{
 "cells": [
  {
   "cell_type": "markdown",
   "id": "541e35d9-8282-4a64-a390-6da30c1e79cd",
   "metadata": {},
   "source": [
    "# Pseudonymize LFwC for Review."
   ]
  },
  {
   "cell_type": "code",
   "execution_count": null,
   "id": "749dbda1-cb32-4952-894c-d0d0f66c6e6e",
   "metadata": {},
   "outputs": [],
   "source": [
    "import secrets\n",
    "from pathlib import Path\n",
    "\n",
    "import pandas as pd\n",
    "import ssdeep"
   ]
  },
  {
   "cell_type": "code",
   "execution_count": null,
   "id": "0ebee9b3-46d4-4781-a76c-1946a9935dd9",
   "metadata": {},
   "outputs": [],
   "source": [
    "CORPUS_PATH: Path = Path(\"lfwc.csv\")"
   ]
  },
  {
   "cell_type": "code",
   "execution_count": null,
   "id": "518ee792-996c-4307-9c98-d3dae795fc82",
   "metadata": {},
   "outputs": [],
   "source": [
    "df: pd.DataFrame = pd.read_csv(CORPUS_PATH, index_col=0)"
   ]
  },
  {
   "cell_type": "code",
   "execution_count": null,
   "id": "3ee71f4f-0d49-48f7-812f-3e539c96182a",
   "metadata": {},
   "outputs": [],
   "source": [
    "length_mapping: dict[\"str\", int] = {\"md5\": 16, \"sha1\": 20, \"sha256\": 32, \"sha512\": 64}\n",
    "\n",
    "\n",
    "def replace_hash(_: str, kind: str) -> str:\n",
    "    if kind == \"tlsh\":\n",
    "        return f\"T1{secrets.token_hex(nbytes=35).upper()}\"\n",
    "    if kind == \"ssdeep\":\n",
    "        return ssdeep.hash(secrets.token_bytes(nbytes=1024))\n",
    "    return secrets.token_hex(nbytes=length_mapping[kind])"
   ]
  },
  {
   "cell_type": "code",
   "execution_count": null,
   "id": "0c14b5cb-2825-4d6d-8712-8241820c5d70",
   "metadata": {},
   "outputs": [],
   "source": [
    "for column in [\"md5\", \"sha1\", \"sha256\", \"sha512\", \"ssdeep\", \"tlsh\"]:\n",
    "    df[column] = df[column].apply(lambda x: replace_hash(x, column))"
   ]
  },
  {
   "cell_type": "code",
   "execution_count": null,
   "id": "f11e5603-ffa2-4537-919f-440c001b80e0",
   "metadata": {},
   "outputs": [],
   "source": [
    "pseudo_name_map: dict[str, str] = {}\n",
    "\n",
    "\n",
    "def pseudonymize_device_names(name: str) -> str:\n",
    "    if name not in pseudo_name_map:\n",
    "        pseudo_name_map[name] = secrets.token_hex(nbytes=12)\n",
    "    return pseudo_name_map[name]"
   ]
  },
  {
   "cell_type": "code",
   "execution_count": null,
   "id": "c36ffd5c-a0a0-401c-b589-76d8cdc3188b",
   "metadata": {},
   "outputs": [],
   "source": [
    "df[\"device_name\"] = df[\"device_name\"].apply(pseudonymize_device_names)\n",
    "df[\"filename\"] = \"*****\"\n",
    "df[\"source_link\"] = \"https://*****\"\n",
    "df[\"wayback\"] = \"https://web.archive.org/*****\""
   ]
  },
  {
   "cell_type": "code",
   "execution_count": null,
   "id": "3644b991-b04b-4d92-b2ff-81aa8c920653",
   "metadata": {},
   "outputs": [],
   "source": [
    "df"
   ]
  },
  {
   "cell_type": "code",
   "execution_count": null,
   "id": "f8384946-9577-4802-a1a9-802c4f58f65f",
   "metadata": {},
   "outputs": [],
   "source": [
    "df.to_csv(\"../public_data/lfwc_masked.csv\")"
   ]
  }
 ],
 "metadata": {
  "kernelspec": {
   "display_name": "Python 3 (ipykernel)",
   "language": "python",
   "name": "python3"
  },
  "language_info": {
   "codemirror_mode": {
    "name": "ipython",
    "version": 3
   },
   "file_extension": ".py",
   "mimetype": "text/x-python",
   "name": "python",
   "nbconvert_exporter": "python",
   "pygments_lexer": "ipython3",
   "version": "3.12.3"
  }
 },
 "nbformat": 4,
 "nbformat_minor": 5
}
